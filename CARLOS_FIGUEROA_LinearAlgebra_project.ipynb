{
 "cells": [
  {
   "cell_type": "markdown",
   "metadata": {},
   "source": [
    "Please follow the instructions carefully. Write all your code in a `Code` cell, and your explanations in a `Markdown` cell. Make sure that your code compiles correctly either by selecting a given cell and clicking the `Run` button, or by hitting `shift`+`enter` or `shift`+`return`."
   ]
  },
  {
   "cell_type": "markdown",
   "metadata": {
    "colab_type": "text",
    "id": "MGS0XEWoL9er"
   },
   "source": [
    "### 1. Import `numpy`, `numpy.linalg`, `matplotlib.pyplot`, and `pandas`. Use the appropriate aliases when importing these modules."
   ]
  },
  {
   "cell_type": "code",
   "execution_count": 2,
   "metadata": {
    "colab": {
     "base_uri": "https://localhost:8080/",
     "height": 52
    },
    "colab_type": "code",
    "id": "KheDr_zDL9es",
    "outputId": "1db9f4d3-2e0d-4008-f78a-161ed52c4359"
   },
   "outputs": [],
   "source": [
    "# code for question 1\n",
    "import numpy as np\n",
    "import matplotlib.pyplot as plt \n",
    "import pandas as pd\n",
    "import numpy.linalg as la\n"
   ]
  },
  {
   "cell_type": "markdown",
   "metadata": {},
   "source": [
    "### 2. Load the data from the file named `data_stock_returns.csv` into a `DatFrame` called `returns`. The file `data_stock_returns.csv` contains daily returns of a number of stocks selected from the S&P 500 universe. The rows of the csv file represent the returns over a number of days, and the columns represent individual stocks labeled by their NYSE ticker symbol, e.g., Apple stock is labeled `AAPL`."
   ]
  },
  {
   "cell_type": "code",
   "execution_count": 3,
   "metadata": {},
   "outputs": [],
   "source": [
    "# code for question 2\n",
    "returns = pd.read_csv(\"data_stock_returns.csv\")  # load file as "
   ]
  },
  {
   "cell_type": "markdown",
   "metadata": {},
   "source": [
    "### 3. View the `head` of the `returns` `DataFrame`"
   ]
  },
  {
   "cell_type": "code",
   "execution_count": 4,
   "metadata": {},
   "outputs": [
    {
     "data": {
      "text/html": [
       "<div>\n",
       "<style scoped>\n",
       "    .dataframe tbody tr th:only-of-type {\n",
       "        vertical-align: middle;\n",
       "    }\n",
       "\n",
       "    .dataframe tbody tr th {\n",
       "        vertical-align: top;\n",
       "    }\n",
       "\n",
       "    .dataframe thead th {\n",
       "        text-align: right;\n",
       "    }\n",
       "</style>\n",
       "<table border=\"1\" class=\"dataframe\">\n",
       "  <thead>\n",
       "    <tr style=\"text-align: right;\">\n",
       "      <th></th>\n",
       "      <th>Date</th>\n",
       "      <th>ATVI</th>\n",
       "      <th>CHTR</th>\n",
       "      <th>CMCSA</th>\n",
       "      <th>CTL</th>\n",
       "      <th>DIS</th>\n",
       "      <th>DISCA</th>\n",
       "      <th>DISCK</th>\n",
       "      <th>DISH</th>\n",
       "      <th>EA</th>\n",
       "      <th>...</th>\n",
       "      <th>NEE</th>\n",
       "      <th>NI</th>\n",
       "      <th>NRG</th>\n",
       "      <th>PEG</th>\n",
       "      <th>PNW</th>\n",
       "      <th>PPL</th>\n",
       "      <th>SO</th>\n",
       "      <th>SRE</th>\n",
       "      <th>WEC</th>\n",
       "      <th>XEL</th>\n",
       "    </tr>\n",
       "  </thead>\n",
       "  <tbody>\n",
       "    <tr>\n",
       "      <th>0</th>\n",
       "      <td>2019-01-02</td>\n",
       "      <td>0.009829</td>\n",
       "      <td>0.010542</td>\n",
       "      <td>0.009354</td>\n",
       "      <td>0.018961</td>\n",
       "      <td>-0.006221</td>\n",
       "      <td>0.043115</td>\n",
       "      <td>0.031979</td>\n",
       "      <td>0.035795</td>\n",
       "      <td>0.018333</td>\n",
       "      <td>...</td>\n",
       "      <td>-0.023222</td>\n",
       "      <td>-0.011107</td>\n",
       "      <td>-0.038352</td>\n",
       "      <td>-0.023718</td>\n",
       "      <td>-0.027728</td>\n",
       "      <td>-0.007796</td>\n",
       "      <td>-0.004564</td>\n",
       "      <td>-0.013306</td>\n",
       "      <td>-0.024556</td>\n",
       "      <td>-0.021542</td>\n",
       "    </tr>\n",
       "    <tr>\n",
       "      <th>1</th>\n",
       "      <td>2019-01-03</td>\n",
       "      <td>-0.036155</td>\n",
       "      <td>-0.001703</td>\n",
       "      <td>0.007825</td>\n",
       "      <td>0.004524</td>\n",
       "      <td>-0.024525</td>\n",
       "      <td>-0.005824</td>\n",
       "      <td>0.002515</td>\n",
       "      <td>0.020651</td>\n",
       "      <td>-0.020871</td>\n",
       "      <td>...</td>\n",
       "      <td>-0.002476</td>\n",
       "      <td>0.001196</td>\n",
       "      <td>-0.009491</td>\n",
       "      <td>-0.000197</td>\n",
       "      <td>0.010085</td>\n",
       "      <td>-0.003564</td>\n",
       "      <td>0.014082</td>\n",
       "      <td>0.004579</td>\n",
       "      <td>0.002660</td>\n",
       "      <td>-0.003948</td>\n",
       "    </tr>\n",
       "    <tr>\n",
       "      <th>2</th>\n",
       "      <td>2019-01-04</td>\n",
       "      <td>0.039127</td>\n",
       "      <td>0.051651</td>\n",
       "      <td>0.033218</td>\n",
       "      <td>0.027974</td>\n",
       "      <td>0.030381</td>\n",
       "      <td>0.017754</td>\n",
       "      <td>0.019072</td>\n",
       "      <td>0.068034</td>\n",
       "      <td>0.070034</td>\n",
       "      <td>...</td>\n",
       "      <td>0.018249</td>\n",
       "      <td>0.017378</td>\n",
       "      <td>0.033601</td>\n",
       "      <td>0.010764</td>\n",
       "      <td>0.012229</td>\n",
       "      <td>0.030242</td>\n",
       "      <td>0.008310</td>\n",
       "      <td>0.029491</td>\n",
       "      <td>0.007352</td>\n",
       "      <td>0.009738</td>\n",
       "    </tr>\n",
       "    <tr>\n",
       "      <th>3</th>\n",
       "      <td>2019-01-07</td>\n",
       "      <td>0.027806</td>\n",
       "      <td>-0.004204</td>\n",
       "      <td>-0.010668</td>\n",
       "      <td>0.021706</td>\n",
       "      <td>0.008630</td>\n",
       "      <td>0.014810</td>\n",
       "      <td>0.014271</td>\n",
       "      <td>0.011252</td>\n",
       "      <td>0.036862</td>\n",
       "      <td>...</td>\n",
       "      <td>-0.001450</td>\n",
       "      <td>0.005467</td>\n",
       "      <td>0.009179</td>\n",
       "      <td>0.002139</td>\n",
       "      <td>-0.001890</td>\n",
       "      <td>0.001384</td>\n",
       "      <td>-0.002239</td>\n",
       "      <td>-0.000181</td>\n",
       "      <td>-0.004552</td>\n",
       "      <td>-0.004339</td>\n",
       "    </tr>\n",
       "    <tr>\n",
       "      <th>4</th>\n",
       "      <td>2019-01-08</td>\n",
       "      <td>0.029859</td>\n",
       "      <td>-0.002524</td>\n",
       "      <td>0.008152</td>\n",
       "      <td>0.025441</td>\n",
       "      <td>0.007748</td>\n",
       "      <td>0.026410</td>\n",
       "      <td>0.020041</td>\n",
       "      <td>0.002793</td>\n",
       "      <td>0.016194</td>\n",
       "      <td>...</td>\n",
       "      <td>0.007287</td>\n",
       "      <td>0.018519</td>\n",
       "      <td>0.015114</td>\n",
       "      <td>0.003878</td>\n",
       "      <td>0.014904</td>\n",
       "      <td>0.013059</td>\n",
       "      <td>0.028071</td>\n",
       "      <td>0.027595</td>\n",
       "      <td>0.010249</td>\n",
       "      <td>0.011530</td>\n",
       "    </tr>\n",
       "  </tbody>\n",
       "</table>\n",
       "<p>5 rows × 489 columns</p>\n",
       "</div>"
      ],
      "text/plain": [
       "         Date      ATVI      CHTR     CMCSA       CTL       DIS     DISCA  \\\n",
       "0  2019-01-02  0.009829  0.010542  0.009354  0.018961 -0.006221  0.043115   \n",
       "1  2019-01-03 -0.036155 -0.001703  0.007825  0.004524 -0.024525 -0.005824   \n",
       "2  2019-01-04  0.039127  0.051651  0.033218  0.027974  0.030381  0.017754   \n",
       "3  2019-01-07  0.027806 -0.004204 -0.010668  0.021706  0.008630  0.014810   \n",
       "4  2019-01-08  0.029859 -0.002524  0.008152  0.025441  0.007748  0.026410   \n",
       "\n",
       "      DISCK      DISH        EA  ...       NEE        NI       NRG       PEG  \\\n",
       "0  0.031979  0.035795  0.018333  ... -0.023222 -0.011107 -0.038352 -0.023718   \n",
       "1  0.002515  0.020651 -0.020871  ... -0.002476  0.001196 -0.009491 -0.000197   \n",
       "2  0.019072  0.068034  0.070034  ...  0.018249  0.017378  0.033601  0.010764   \n",
       "3  0.014271  0.011252  0.036862  ... -0.001450  0.005467  0.009179  0.002139   \n",
       "4  0.020041  0.002793  0.016194  ...  0.007287  0.018519  0.015114  0.003878   \n",
       "\n",
       "        PNW       PPL        SO       SRE       WEC       XEL  \n",
       "0 -0.027728 -0.007796 -0.004564 -0.013306 -0.024556 -0.021542  \n",
       "1  0.010085 -0.003564  0.014082  0.004579  0.002660 -0.003948  \n",
       "2  0.012229  0.030242  0.008310  0.029491  0.007352  0.009738  \n",
       "3 -0.001890  0.001384 -0.002239 -0.000181 -0.004552 -0.004339  \n",
       "4  0.014904  0.013059  0.028071  0.027595  0.010249  0.011530  \n",
       "\n",
       "[5 rows x 489 columns]"
      ]
     },
     "execution_count": 4,
     "metadata": {},
     "output_type": "execute_result"
    }
   ],
   "source": [
    "# code for question 3\n",
    "returns.head()"
   ]
  },
  {
   "cell_type": "markdown",
   "metadata": {},
   "source": [
    "### 4. View the `tail` of the `returns` `DataFrame`"
   ]
  },
  {
   "cell_type": "code",
   "execution_count": 5,
   "metadata": {},
   "outputs": [
    {
     "data": {
      "text/html": [
       "<div>\n",
       "<style scoped>\n",
       "    .dataframe tbody tr th:only-of-type {\n",
       "        vertical-align: middle;\n",
       "    }\n",
       "\n",
       "    .dataframe tbody tr th {\n",
       "        vertical-align: top;\n",
       "    }\n",
       "\n",
       "    .dataframe thead th {\n",
       "        text-align: right;\n",
       "    }\n",
       "</style>\n",
       "<table border=\"1\" class=\"dataframe\">\n",
       "  <thead>\n",
       "    <tr style=\"text-align: right;\">\n",
       "      <th></th>\n",
       "      <th>Date</th>\n",
       "      <th>ATVI</th>\n",
       "      <th>CHTR</th>\n",
       "      <th>CMCSA</th>\n",
       "      <th>CTL</th>\n",
       "      <th>DIS</th>\n",
       "      <th>DISCA</th>\n",
       "      <th>DISCK</th>\n",
       "      <th>DISH</th>\n",
       "      <th>EA</th>\n",
       "      <th>...</th>\n",
       "      <th>NEE</th>\n",
       "      <th>NI</th>\n",
       "      <th>NRG</th>\n",
       "      <th>PEG</th>\n",
       "      <th>PNW</th>\n",
       "      <th>PPL</th>\n",
       "      <th>SO</th>\n",
       "      <th>SRE</th>\n",
       "      <th>WEC</th>\n",
       "      <th>XEL</th>\n",
       "    </tr>\n",
       "  </thead>\n",
       "  <tbody>\n",
       "    <tr>\n",
       "      <th>247</th>\n",
       "      <td>2019-12-24</td>\n",
       "      <td>-0.001359</td>\n",
       "      <td>0.000291</td>\n",
       "      <td>0.009703</td>\n",
       "      <td>-0.002277</td>\n",
       "      <td>0.004207</td>\n",
       "      <td>0.003943</td>\n",
       "      <td>0.007496</td>\n",
       "      <td>0.001956</td>\n",
       "      <td>0.007026</td>\n",
       "      <td>...</td>\n",
       "      <td>0.007219</td>\n",
       "      <td>-0.000729</td>\n",
       "      <td>-0.004752</td>\n",
       "      <td>-0.001537</td>\n",
       "      <td>-0.001350</td>\n",
       "      <td>-0.001122</td>\n",
       "      <td>-0.002057</td>\n",
       "      <td>0.000598</td>\n",
       "      <td>0.001529</td>\n",
       "      <td>0.003905</td>\n",
       "    </tr>\n",
       "    <tr>\n",
       "      <th>248</th>\n",
       "      <td>2019-12-26</td>\n",
       "      <td>0.001359</td>\n",
       "      <td>0.010077</td>\n",
       "      <td>0.009833</td>\n",
       "      <td>-0.003807</td>\n",
       "      <td>0.002818</td>\n",
       "      <td>0.007540</td>\n",
       "      <td>0.004212</td>\n",
       "      <td>0.008617</td>\n",
       "      <td>-0.000369</td>\n",
       "      <td>...</td>\n",
       "      <td>0.006011</td>\n",
       "      <td>-0.002921</td>\n",
       "      <td>-0.016684</td>\n",
       "      <td>0.002049</td>\n",
       "      <td>0.001012</td>\n",
       "      <td>-0.002530</td>\n",
       "      <td>0.000633</td>\n",
       "      <td>0.006418</td>\n",
       "      <td>0.001418</td>\n",
       "      <td>-0.001114</td>\n",
       "    </tr>\n",
       "    <tr>\n",
       "      <th>249</th>\n",
       "      <td>2019-12-27</td>\n",
       "      <td>0.005081</td>\n",
       "      <td>-0.004209</td>\n",
       "      <td>0.002887</td>\n",
       "      <td>0.023371</td>\n",
       "      <td>0.000343</td>\n",
       "      <td>-0.004517</td>\n",
       "      <td>-0.005511</td>\n",
       "      <td>-0.004994</td>\n",
       "      <td>-0.000738</td>\n",
       "      <td>...</td>\n",
       "      <td>0.002271</td>\n",
       "      <td>-0.002196</td>\n",
       "      <td>0.000000</td>\n",
       "      <td>-0.000853</td>\n",
       "      <td>-0.001125</td>\n",
       "      <td>-0.000281</td>\n",
       "      <td>0.004580</td>\n",
       "      <td>0.001446</td>\n",
       "      <td>0.006085</td>\n",
       "      <td>0.005242</td>\n",
       "    </tr>\n",
       "    <tr>\n",
       "      <th>250</th>\n",
       "      <td>2019-12-30</td>\n",
       "      <td>-0.005251</td>\n",
       "      <td>-0.001262</td>\n",
       "      <td>0.001772</td>\n",
       "      <td>-0.024134</td>\n",
       "      <td>-0.013678</td>\n",
       "      <td>-0.011231</td>\n",
       "      <td>-0.008161</td>\n",
       "      <td>-0.015700</td>\n",
       "      <td>-0.013930</td>\n",
       "      <td>...</td>\n",
       "      <td>-0.005043</td>\n",
       "      <td>0.008393</td>\n",
       "      <td>0.000000</td>\n",
       "      <td>0.001535</td>\n",
       "      <td>0.004492</td>\n",
       "      <td>0.004214</td>\n",
       "      <td>-0.001893</td>\n",
       "      <td>0.001192</td>\n",
       "      <td>-0.001518</td>\n",
       "      <td>0.002690</td>\n",
       "    </tr>\n",
       "    <tr>\n",
       "      <th>251</th>\n",
       "      <td>2019-12-31</td>\n",
       "      <td>0.009129</td>\n",
       "      <td>0.004132</td>\n",
       "      <td>-0.004659</td>\n",
       "      <td>0.008362</td>\n",
       "      <td>0.005964</td>\n",
       "      <td>-0.000611</td>\n",
       "      <td>-0.000656</td>\n",
       "      <td>0.002258</td>\n",
       "      <td>0.005409</td>\n",
       "      <td>...</td>\n",
       "      <td>0.003599</td>\n",
       "      <td>0.011561</td>\n",
       "      <td>0.013168</td>\n",
       "      <td>0.006456</td>\n",
       "      <td>0.007590</td>\n",
       "      <td>0.005870</td>\n",
       "      <td>0.005667</td>\n",
       "      <td>0.002843</td>\n",
       "      <td>0.000651</td>\n",
       "      <td>0.003155</td>\n",
       "    </tr>\n",
       "  </tbody>\n",
       "</table>\n",
       "<p>5 rows × 489 columns</p>\n",
       "</div>"
      ],
      "text/plain": [
       "           Date      ATVI      CHTR     CMCSA       CTL       DIS     DISCA  \\\n",
       "247  2019-12-24 -0.001359  0.000291  0.009703 -0.002277  0.004207  0.003943   \n",
       "248  2019-12-26  0.001359  0.010077  0.009833 -0.003807  0.002818  0.007540   \n",
       "249  2019-12-27  0.005081 -0.004209  0.002887  0.023371  0.000343 -0.004517   \n",
       "250  2019-12-30 -0.005251 -0.001262  0.001772 -0.024134 -0.013678 -0.011231   \n",
       "251  2019-12-31  0.009129  0.004132 -0.004659  0.008362  0.005964 -0.000611   \n",
       "\n",
       "        DISCK      DISH        EA  ...       NEE        NI       NRG  \\\n",
       "247  0.007496  0.001956  0.007026  ...  0.007219 -0.000729 -0.004752   \n",
       "248  0.004212  0.008617 -0.000369  ...  0.006011 -0.002921 -0.016684   \n",
       "249 -0.005511 -0.004994 -0.000738  ...  0.002271 -0.002196  0.000000   \n",
       "250 -0.008161 -0.015700 -0.013930  ... -0.005043  0.008393  0.000000   \n",
       "251 -0.000656  0.002258  0.005409  ...  0.003599  0.011561  0.013168   \n",
       "\n",
       "          PEG       PNW       PPL        SO       SRE       WEC       XEL  \n",
       "247 -0.001537 -0.001350 -0.001122 -0.002057  0.000598  0.001529  0.003905  \n",
       "248  0.002049  0.001012 -0.002530  0.000633  0.006418  0.001418 -0.001114  \n",
       "249 -0.000853 -0.001125 -0.000281  0.004580  0.001446  0.006085  0.005242  \n",
       "250  0.001535  0.004492  0.004214 -0.001893  0.001192 -0.001518  0.002690  \n",
       "251  0.006456  0.007590  0.005870  0.005667  0.002843  0.000651  0.003155  \n",
       "\n",
       "[5 rows x 489 columns]"
      ]
     },
     "execution_count": 5,
     "metadata": {},
     "output_type": "execute_result"
    }
   ],
   "source": [
    "# code for question 4\n",
    "returns.tail()"
   ]
  },
  {
   "cell_type": "markdown",
   "metadata": {},
   "source": [
    "### 5. How many stocks are in this `DataFrame`?"
   ]
  },
  {
   "cell_type": "code",
   "execution_count": 6,
   "metadata": {},
   "outputs": [
    {
     "data": {
      "text/plain": [
       "489"
      ]
     },
     "execution_count": 6,
     "metadata": {},
     "output_type": "execute_result"
    }
   ],
   "source": [
    "# code for question 5\n",
    "len(returns.T)  #just transposing the matrix "
   ]
  },
  {
   "cell_type": "markdown",
   "metadata": {},
   "source": [
    "**ANSWER FOR QUESTION 5**: double click on this cell to write your answer: 489 different stocks"
   ]
  },
  {
   "cell_type": "markdown",
   "metadata": {},
   "source": [
    "### 6. Over how many days are these stock returns reported?"
   ]
  },
  {
   "cell_type": "code",
   "execution_count": 7,
   "metadata": {},
   "outputs": [
    {
     "data": {
      "text/plain": [
       "252"
      ]
     },
     "execution_count": 7,
     "metadata": {},
     "output_type": "execute_result"
    }
   ],
   "source": [
    "# code for question 6\n",
    "len(returns)"
   ]
  },
  {
   "cell_type": "markdown",
   "metadata": {},
   "source": [
    "**ANSWER FOR QUESTION 6**: double click on this cell to write your answer: 252 trading days"
   ]
  },
  {
   "cell_type": "markdown",
   "metadata": {},
   "source": [
    "### 7. Extract the returns of the Amazon stock only, which has a ticker symbol `AMZN`. Save it in a `Series` called `amzn_returns`."
   ]
  },
  {
   "cell_type": "code",
   "execution_count": 8,
   "metadata": {},
   "outputs": [],
   "source": [
    "# code for question 7\n",
    "amzn_returns = returns['AMZN']"
   ]
  },
  {
   "cell_type": "markdown",
   "metadata": {},
   "source": [
    "### 8. Plot the Amazon stock returns extracted in the above cell. "
   ]
  },
  {
   "cell_type": "code",
   "execution_count": 9,
   "metadata": {},
   "outputs": [
    {
     "data": {
      "image/png": "[encoded data removed]",
      "text/plain": [
       "<Figure size 432x288 with 1 Axes>"
      ]
     },
     "metadata": {
      "needs_background": "light"
     },
     "output_type": "display_data"
    }
   ],
   "source": [
    "# code for question 8\n",
    "plt.plot(amzn_returns)\n",
    "plt.title(\"Amazon returns on stocks\")\n",
    "plt.xlabel(\"Days registered\")\n",
    "plt.ylabel(\"Returns\")\n",
    "#give x and y axis def\n",
    "plt.show()"
   ]
  },
  {
   "cell_type": "markdown",
   "metadata": {},
   "source": [
    "### 9. Plot the cumulative sum of the Amazon stock returns using the method `.cumsum()` which acts directly on the `amzn_returns` `Series`."
   ]
  },
  {
   "cell_type": "code",
   "execution_count": 98,
   "metadata": {},
   "outputs": [
    {
     "data": {
      "image/png": "[encoded data removed]",
      "text/plain": [
       "<Figure size 432x288 with 1 Axes>"
      ]
     },
     "metadata": {
      "needs_background": "light"
     },
     "output_type": "display_data"
    }
   ],
   "source": [
    "# code for question 9\n",
    "plt.plot(amzn_returns.cumsum(), \"g\")\n",
    "plt.title(\"Amazon cumulative returns on stocks\")\n",
    "plt.xlabel(\"Days registered\")\n",
    "plt.ylabel(\"Cummulative returns\")\n",
    "#give x and y axis def\n",
    "plt.show()"
   ]
  },
  {
   "cell_type": "code",
   "execution_count": 11,
   "metadata": {},
   "outputs": [],
   "source": [
    "# the module below will allow us to perform linear regression\n",
    "import statsmodels.api as sm"
   ]
  },
  {
   "cell_type": "markdown",
   "metadata": {},
   "source": [
    "The function `lin_reg(x,y)` given below performs ordinary least squares (OLS) linear regression using `sm.OLS` from the `statsmodels.api` module.\n",
    "\n",
    "The code enclosed in `''' '''` is the docstring of the function `lin_reg`.\n",
    "\n",
    "`x` in the `lin_reg` function is a matrix that contains the regressors, and `y` represents the vector containing the dependent variable. Note that `x` might contain one vector or multiple vectors. In the case that `x` contains one vector $x$, the regression gives:\n",
    "\n",
    "$$ y = \\beta_0 + \\beta_1 x $$\n",
    "\n",
    "In the case that `x` contains multiple vectors $x_1, \\dots, x_k$, the regression becomes:\n",
    "\n",
    "$$ y = \\beta_0 + \\beta_1 x_1 + \\dots + \\beta_k x_k$$\n",
    "\n",
    "The $\\beta$'s are the regression coefficients obtained using least squares. Note that `sm.add_constant` is used in the function below to make `x` look like the matrix $A$ we use in least squares, whose first column contains all ones."
   ]
  },
  {
   "cell_type": "code",
   "execution_count": 12,
   "metadata": {},
   "outputs": [],
   "source": [
    "def lin_reg(x, y):\n",
    "    '''\n",
    "    oridinary linear regression using least-squares\n",
    "    \n",
    "    Parameters\n",
    "    ----------  \n",
    "    x: regressors (numpy array)\n",
    "    y: dependent variable (numpy array)\n",
    "    \n",
    "    Returns\n",
    "    -------\n",
    "    coefficients: regression coefficients (pandas Series)\n",
    "    residuals: regression residuals (numpy array)\n",
    "    r_squared: correlation coefficient (float)\n",
    "    \n",
    "    '''\n",
    "    x = sm.add_constant(x)\n",
    "    model = sm.OLS(y, x).fit()\n",
    "    coefficients = model.params\n",
    "    residuals = model.resid\n",
    "    r_squared = model.rsquared\n",
    "    return coefficients, residuals, r_squared"
   ]
  },
  {
   "cell_type": "markdown",
   "metadata": {},
   "source": [
    "### 10. Let's try to use the obove function. Extract (as numpy array) the stock returns of:\n",
    "\n",
    "- Apple (ticker symbol `AAPL`) and call it `aapl`\n",
    "- Intel (ticker symbol `INTC`) and call it `intc`\n",
    "- Microsoft (ticker symbol `MSFT`) and call it `msft`\n",
    "- IBM (ticker symbol `IBM`) and call it `ibm`\n",
    "\n",
    "### Let `y` be the Apple stock returns, and `x` be the Intel stock returns. Use the `lin_reg` function defined above to find $y=\\beta_0 + \\beta_1 x$. "
   ]
  },
  {
   "cell_type": "code",
   "execution_count": 29,
   "metadata": {},
   "outputs": [
    {
     "name": "stdout",
     "output_type": "stream",
     "text": [
      "0.3050299157977574\n"
     ]
    }
   ],
   "source": [
    "# code for question 10\n",
    "aapl =  returns['AAPL'].to_numpy()\n",
    "intc =  returns['INTC'].to_numpy()\n",
    "msft =  returns['MSFT'].to_numpy()\n",
    "ibm =  returns['IBM'].to_numpy()\n",
    "\n",
    "y = aapl\n",
    "x = intc\n",
    "coef, residuals, r_square = lin_reg(x,y)\n",
    "print(r_square)\n",
    "func = 0.00195633 + 0.53526326*x #this will represent out linear model y hat\n",
    "y_hat = coef[0] + coef[1]*x #this is an equivalent method"
   ]
  },
  {
   "cell_type": "markdown",
   "metadata": {},
   "source": [
    "### 11. Plot the cumulative sum of the Apple returns prediction from least squares on top of the actual Apple returns. How well do the Intel stock returns describe the Apple stock returns?"
   ]
  },
  {
   "cell_type": "code",
   "execution_count": 104,
   "metadata": {},
   "outputs": [
    {
     "data": {
      "image/png": "[encoded data removed]",
      "text/plain": [
       "<Figure size 432x288 with 1 Axes>"
      ]
     },
     "metadata": {
      "needs_background": "light"
     },
     "output_type": "display_data"
    }
   ],
   "source": [
    "# code for question 11\n",
    "aaplpred = func.cumsum()\n",
    "\n",
    "plt.plot(aapl.cumsum(), label=\"Apple cumulative returns\") #cumulative sum of apple returns\n",
    "\n",
    "plt.plot(aaplpred, \"-r\", label=\"Predicted cumulative returns\") #setting up the prediction shortfalls from our regression\n",
    "plt.title(\"Apple returns on stocks vs predictive model using intel\")\n",
    "plt.figtext(.68, .2, \"r_square = 0.3050\")\n",
    "plt.xlabel(\"Days registered\")\n",
    "plt.ylabel(\"Cummulative returns\")\n",
    "plt.legend(loc=\"upper left\")\n",
    "#give x and y axis def\n",
    "plt.show()\n",
    "\n",
    "#the red line is our prediction"
   ]
  },
  {
   "cell_type": "code",
   "execution_count": 97,
   "metadata": {},
   "outputs": [
    {
     "data": {
      "image/png": "[encoded data removed]",
      "text/plain": [
       "<Figure size 432x288 with 1 Axes>"
      ]
     },
     "metadata": {
      "needs_background": "light"
     },
     "output_type": "display_data"
    }
   ],
   "source": [
    "# code for question 11 but using a different method\n",
    "aaplpred = (aapl-residuals).cumsum() #by using residuals we could apply the same\n",
    "plt.plot(aapl.cumsum()) #cumulative sum of apple returns \n",
    "plt.plot(aaplpred, \"-r\") #setting up the prediction shortfalls from our regression \n",
    "plt.title(\"Apple returns on stocks vs predictive model using intel\") \n",
    "plt.xlabel(\"Days registered\") \n",
    "plt.ylabel(\"Cummulative returns\") #give x and y axis def \n",
    "plt.show() #the green line is our prediction"
   ]
  },
  {
   "cell_type": "markdown",
   "metadata": {},
   "source": [
    "So as we can see, the model seems to be touching the cumulative sum of the apple returns, but the trend doesn't seem to be perfectly reflected by our model, and that is probably why the r_square is not that high in our model, seems to be overshooting and undershooting on specific behaviors. However, given that it comes from only one stock, the model is pretty good in those standarts."
   ]
  },
  {
   "cell_type": "markdown",
   "metadata": {},
   "source": [
    "### 12. Now, let `y` be the Apple stock returns, and `x` be the Intel, Microsoft, and IBM stock returns. Use the `lin_reg` function defined above to find $y=\\beta_0 + \\beta_1 x_1 + \\beta_2 x_2 + \\beta_3 x_3$, where $x_1$ represents Intel returns, $x_2$ represents Microsoft returns, and $x_3$ represents IBM returns. "
   ]
  },
  {
   "cell_type": "code",
   "execution_count": 35,
   "metadata": {},
   "outputs": [
    {
     "name": "stdout",
     "output_type": "stream",
     "text": [
      "const    0.001116\n",
      "INTC     0.284141\n",
      "MSFT     0.543723\n",
      "IBM      0.150586\n",
      "dtype: float64\n"
     ]
    }
   ],
   "source": [
    "# code for question 12\n",
    "y = aapl\n",
    "x1 = intc\n",
    "x2 = msft\n",
    "x3 = ibm\n",
    "x4 = returns[['INTC', 'MSFT','IBM']]\n",
    "coef1, residuals1, r_square1 = lin_reg(x4,y)\n",
    "print(coef1)\n",
    "func_multi = 0.001116 + 0.284141*x1 + 0.543723*x2 + 0.150586*x3\n",
    "y_hat2 = coef1[0] + coef1[1]*x1 + coef1[2]*x2 + coef1[3]*x3 #is an equivalent form of the coefficients\n"
   ]
  },
  {
   "cell_type": "markdown",
   "metadata": {},
   "source": [
    "### 13. Plot the cumulative sum of the Apple returns prediction from least squares on top of the cumulative sum of actual Apple returns. How well do the Intel, Microsoft, and IBM stock returns describe the Apple stock returns?"
   ]
  },
  {
   "cell_type": "code",
   "execution_count": 103,
   "metadata": {},
   "outputs": [
    {
     "data": {
      "image/png": "[encoded data removed]",
      "text/plain": [
       "<Figure size 432x288 with 1 Axes>"
      ]
     },
     "metadata": {
      "needs_background": "light"
     },
     "output_type": "display_data"
    }
   ],
   "source": [
    "# code for question 13\n",
    "plt.plot(aapl.cumsum(), label=\"Apple cumulative returns\") #cumulative sum of apple returns\n",
    "#plt.plot(intc.cumsum()) #cumulative sum of apple returns\n",
    "\n",
    "plt.plot(func_multi.cumsum(), \"g\",label=\"Predicted cumulative returns\") #setting up the prediction shortfalls from our regression\n",
    "plt.title(\"Apple returns on stocks vs Predictive multivariable model\")\n",
    "\n",
    "plt.figtext(.66, .2, \"r_square = 0.47047\")\n",
    "\n",
    "plt.xlabel(\"Days registered\")\n",
    "plt.ylabel(\"Cummulative returns\")\n",
    "plt.legend(loc=\"upper left\")\n",
    "\n",
    "#give x and y axis def\n",
    "plt.show()"
   ]
  },
  {
   "cell_type": "markdown",
   "metadata": {},
   "source": [
    "Now, we can see that our model is doing a better job in predicting the trends of when the cumulative returns of apple will go up and down. We can see that the main issue is that it seems to be undershooting, but the variability of the trends is being almost perfectly replicated. As we can see with regards to the r_square, the model fits our data better than the last one that dependent in one variable. However, i did not significally change by adding these new variables, and diminishes principles of simplification over complexity of forecasting. To improve this model, we could also probably add a constant to drive the whole graph up."
   ]
  },
  {
   "cell_type": "markdown",
   "metadata": {},
   "source": [
    "The file `SPY.csv` contains the prices of SPDR S&P 500 ETF Trust. This Exchage Traded Fund (ETF) contains a collection of assets currently present in the S&P 500 index. \n",
    "\n",
    "### 14. Load `SPY.csv` into a DataFrame called `spy_prices` using the `read_csv` method in `pandas`. Make sure to make the 'Date' column to be your index column. To do that, read the docstring for `read_csv`. "
   ]
  },
  {
   "cell_type": "code",
   "execution_count": 40,
   "metadata": {},
   "outputs": [],
   "source": [
    "# code for question 14\n",
    "spy_prices = pd.read_csv(\"SPY.csv\", index_col=0) #we load the dataset and set the date column as index colum "
   ]
  },
  {
   "cell_type": "markdown",
   "metadata": {},
   "source": [
    "### 15. Once you have downloaded the file into the `DataFrame`, observe all the available prices and dates. Show the head of the `DataFrame`, and then answer the following questions:\n",
    "\n",
    "(a) Which prices are reported?\n",
    "\n",
    "(b) From which date to which date are these prices reported?"
   ]
  },
  {
   "cell_type": "code",
   "execution_count": 41,
   "metadata": {},
   "outputs": [
    {
     "data": {
      "text/html": [
       "<div>\n",
       "<style scoped>\n",
       "    .dataframe tbody tr th:only-of-type {\n",
       "        vertical-align: middle;\n",
       "    }\n",
       "\n",
       "    .dataframe tbody tr th {\n",
       "        vertical-align: top;\n",
       "    }\n",
       "\n",
       "    .dataframe thead th {\n",
       "        text-align: right;\n",
       "    }\n",
       "</style>\n",
       "<table border=\"1\" class=\"dataframe\">\n",
       "  <thead>\n",
       "    <tr style=\"text-align: right;\">\n",
       "      <th></th>\n",
       "      <th>High</th>\n",
       "      <th>Low</th>\n",
       "      <th>Open</th>\n",
       "      <th>Close</th>\n",
       "      <th>Volume</th>\n",
       "      <th>Adj Close</th>\n",
       "    </tr>\n",
       "    <tr>\n",
       "      <th>Date</th>\n",
       "      <th></th>\n",
       "      <th></th>\n",
       "      <th></th>\n",
       "      <th></th>\n",
       "      <th></th>\n",
       "      <th></th>\n",
       "    </tr>\n",
       "  </thead>\n",
       "  <tbody>\n",
       "    <tr>\n",
       "      <th>2015-01-02</th>\n",
       "      <td>206.880005</td>\n",
       "      <td>204.179993</td>\n",
       "      <td>206.380005</td>\n",
       "      <td>205.429993</td>\n",
       "      <td>121465900.0</td>\n",
       "      <td>184.260223</td>\n",
       "    </tr>\n",
       "    <tr>\n",
       "      <th>2015-01-05</th>\n",
       "      <td>204.369995</td>\n",
       "      <td>201.350006</td>\n",
       "      <td>204.169998</td>\n",
       "      <td>201.720001</td>\n",
       "      <td>169632600.0</td>\n",
       "      <td>180.932541</td>\n",
       "    </tr>\n",
       "    <tr>\n",
       "      <th>2015-01-06</th>\n",
       "      <td>202.720001</td>\n",
       "      <td>198.860001</td>\n",
       "      <td>202.089996</td>\n",
       "      <td>199.820007</td>\n",
       "      <td>209151400.0</td>\n",
       "      <td>179.228363</td>\n",
       "    </tr>\n",
       "    <tr>\n",
       "      <th>2015-01-07</th>\n",
       "      <td>202.720001</td>\n",
       "      <td>200.880005</td>\n",
       "      <td>201.419998</td>\n",
       "      <td>202.309998</td>\n",
       "      <td>125346700.0</td>\n",
       "      <td>181.461731</td>\n",
       "    </tr>\n",
       "    <tr>\n",
       "      <th>2015-01-08</th>\n",
       "      <td>206.160004</td>\n",
       "      <td>203.990005</td>\n",
       "      <td>204.009995</td>\n",
       "      <td>205.899994</td>\n",
       "      <td>147217800.0</td>\n",
       "      <td>184.681763</td>\n",
       "    </tr>\n",
       "  </tbody>\n",
       "</table>\n",
       "</div>"
      ],
      "text/plain": [
       "                  High         Low        Open       Close       Volume  \\\n",
       "Date                                                                      \n",
       "2015-01-02  206.880005  204.179993  206.380005  205.429993  121465900.0   \n",
       "2015-01-05  204.369995  201.350006  204.169998  201.720001  169632600.0   \n",
       "2015-01-06  202.720001  198.860001  202.089996  199.820007  209151400.0   \n",
       "2015-01-07  202.720001  200.880005  201.419998  202.309998  125346700.0   \n",
       "2015-01-08  206.160004  203.990005  204.009995  205.899994  147217800.0   \n",
       "\n",
       "             Adj Close  \n",
       "Date                    \n",
       "2015-01-02  184.260223  \n",
       "2015-01-05  180.932541  \n",
       "2015-01-06  179.228363  \n",
       "2015-01-07  181.461731  \n",
       "2015-01-08  184.681763  "
      ]
     },
     "execution_count": 41,
     "metadata": {},
     "output_type": "execute_result"
    }
   ],
   "source": [
    "# code for question 15\n",
    "spy_prices.head()"
   ]
  },
  {
   "cell_type": "code",
   "execution_count": 46,
   "metadata": {},
   "outputs": [
    {
     "data": {
      "text/html": [
       "<div>\n",
       "<style scoped>\n",
       "    .dataframe tbody tr th:only-of-type {\n",
       "        vertical-align: middle;\n",
       "    }\n",
       "\n",
       "    .dataframe tbody tr th {\n",
       "        vertical-align: top;\n",
       "    }\n",
       "\n",
       "    .dataframe thead th {\n",
       "        text-align: right;\n",
       "    }\n",
       "</style>\n",
       "<table border=\"1\" class=\"dataframe\">\n",
       "  <thead>\n",
       "    <tr style=\"text-align: right;\">\n",
       "      <th></th>\n",
       "      <th>High</th>\n",
       "      <th>Low</th>\n",
       "      <th>Open</th>\n",
       "      <th>Close</th>\n",
       "      <th>Volume</th>\n",
       "      <th>Adj Close</th>\n",
       "    </tr>\n",
       "    <tr>\n",
       "      <th>Date</th>\n",
       "      <th></th>\n",
       "      <th></th>\n",
       "      <th></th>\n",
       "      <th></th>\n",
       "      <th></th>\n",
       "      <th></th>\n",
       "    </tr>\n",
       "  </thead>\n",
       "  <tbody>\n",
       "    <tr>\n",
       "      <th>2020-05-26</th>\n",
       "      <td>302.190002</td>\n",
       "      <td>295.459991</td>\n",
       "      <td>301.929993</td>\n",
       "      <td>299.079987</td>\n",
       "      <td>88951400.0</td>\n",
       "      <td>297.769623</td>\n",
       "    </tr>\n",
       "    <tr>\n",
       "      <th>2020-05-27</th>\n",
       "      <td>303.570007</td>\n",
       "      <td>296.869995</td>\n",
       "      <td>302.119995</td>\n",
       "      <td>303.529999</td>\n",
       "      <td>104817400.0</td>\n",
       "      <td>302.200134</td>\n",
       "    </tr>\n",
       "    <tr>\n",
       "      <th>2020-05-28</th>\n",
       "      <td>306.839996</td>\n",
       "      <td>302.239990</td>\n",
       "      <td>304.649994</td>\n",
       "      <td>302.970001</td>\n",
       "      <td>90405200.0</td>\n",
       "      <td>301.642609</td>\n",
       "    </tr>\n",
       "    <tr>\n",
       "      <th>2020-05-29</th>\n",
       "      <td>304.959991</td>\n",
       "      <td>299.470001</td>\n",
       "      <td>302.459991</td>\n",
       "      <td>304.320007</td>\n",
       "      <td>119265700.0</td>\n",
       "      <td>302.986694</td>\n",
       "    </tr>\n",
       "    <tr>\n",
       "      <th>2020-06-01</th>\n",
       "      <td>306.209991</td>\n",
       "      <td>303.059998</td>\n",
       "      <td>303.619995</td>\n",
       "      <td>305.549988</td>\n",
       "      <td>55758300.0</td>\n",
       "      <td>304.211273</td>\n",
       "    </tr>\n",
       "  </tbody>\n",
       "</table>\n",
       "</div>"
      ],
      "text/plain": [
       "                  High         Low        Open       Close       Volume  \\\n",
       "Date                                                                      \n",
       "2020-05-26  302.190002  295.459991  301.929993  299.079987   88951400.0   \n",
       "2020-05-27  303.570007  296.869995  302.119995  303.529999  104817400.0   \n",
       "2020-05-28  306.839996  302.239990  304.649994  302.970001   90405200.0   \n",
       "2020-05-29  304.959991  299.470001  302.459991  304.320007  119265700.0   \n",
       "2020-06-01  306.209991  303.059998  303.619995  305.549988   55758300.0   \n",
       "\n",
       "             Adj Close  \n",
       "Date                    \n",
       "2020-05-26  297.769623  \n",
       "2020-05-27  302.200134  \n",
       "2020-05-28  301.642609  \n",
       "2020-05-29  302.986694  \n",
       "2020-06-01  304.211273  "
      ]
     },
     "execution_count": 46,
     "metadata": {},
     "output_type": "execute_result"
    }
   ],
   "source": [
    "spy_prices.tail()"
   ]
  },
  {
   "cell_type": "markdown",
   "metadata": {},
   "source": [
    "**ANSWER FOR QUESTION 15**: double click on this cell to write your answer\n",
    "\n",
    "(a) Which prices are reported?: for each day, we have the highest and the lowest value it had, the value the stock had at the opening of the markets, the price in which it closed the trading day, then the volume of stocks traded and the adj close which takes the closing value and adjustes it after accounting for any corporate actions\n",
    "\n",
    "(b) From which date to which date are these prices reported?: from 2015-01-02 (January 2nd, 2015) to 2020-06-01 (June 6th, 2020)"
   ]
  },
  {
   "cell_type": "markdown",
   "metadata": {},
   "source": [
    "### 16. Retain only the Adjusted Close price in the `spy_prices` `DataFrame`. Call the resulting `Series` `spy_adjclose`."
   ]
  },
  {
   "cell_type": "code",
   "execution_count": 47,
   "metadata": {},
   "outputs": [
    {
     "name": "stdout",
     "output_type": "stream",
     "text": [
      "Date\n",
      "2015-01-02    184.260223\n",
      "2015-01-05    180.932541\n",
      "2015-01-06    179.228363\n",
      "2015-01-07    181.461731\n",
      "2015-01-08    184.681763\n",
      "                 ...    \n",
      "2020-05-26    297.769623\n",
      "2020-05-27    302.200134\n",
      "2020-05-28    301.642609\n",
      "2020-05-29    302.986694\n",
      "2020-06-01    304.211273\n",
      "Name: Adj Close, Length: 1362, dtype: float64\n"
     ]
    }
   ],
   "source": [
    "# code for question 16\n",
    "spy_adjclose = spy_prices[\"Adj Close\"]\n",
    "print(spy_adjclose)"
   ]
  },
  {
   "cell_type": "markdown",
   "metadata": {},
   "source": [
    "### 17. Now, using the `pct_change` method in `pandas`, compute the returns on the Adjusted Close prices of SPY, and only retain the returns from '2019-01-01' to '2020-01-01'. Call the `Series` obtained `spy_returns`."
   ]
  },
  {
   "cell_type": "code",
   "execution_count": 48,
   "metadata": {},
   "outputs": [
    {
     "name": "stdout",
     "output_type": "stream",
     "text": [
      "Date\n",
      "2019-01-02    0.000000\n",
      "2019-01-03   -0.023863\n",
      "2019-01-04    0.033496\n",
      "2019-01-07    0.007885\n",
      "2019-01-08    0.009395\n",
      "                ...   \n",
      "2019-12-24    0.000031\n",
      "2019-12-26    0.005323\n",
      "2019-12-27   -0.000248\n",
      "2019-12-30   -0.005513\n",
      "2019-12-31    0.002429\n",
      "Name: Adj Close, Length: 252, dtype: float64\n"
     ]
    }
   ],
   "source": [
    "# code for question 17\n",
    "spy_returns = (spy_adjclose[\"2019-01-01\":\"2020-01-01\"].pct_change()).fillna(0)\n",
    "\n",
    "#to handle the first nan value and for the computation to work, we could either:\n",
    "#find the percent change from december 31st 2018 to put it in our first location or\n",
    "#set the first value equal to zero. Since I check that there are no other nan values on \n",
    "#the given dataset, so putting fillna won't damage our model in the future.\n",
    "\n",
    "#Moreover, the value of the first percent change is close to zero as well, the it won't\n",
    "#dramatically change the outcomes \n",
    "\n",
    "print(spy_returns)"
   ]
  },
  {
   "cell_type": "markdown",
   "metadata": {},
   "source": [
    "### 18. Perform SVD on `returns` data that contain assets from the S&P 500. Retain the left singular vector corresponding to the largest singular value and call is `u_sigma1`."
   ]
  },
  {
   "cell_type": "code",
   "execution_count": 49,
   "metadata": {},
   "outputs": [
    {
     "name": "stdout",
     "output_type": "stream",
     "text": [
      "(252, 488)\n",
      "(252, 252)\n",
      "(252, 252)\n",
      "(488, 488)\n"
     ]
    }
   ],
   "source": [
    "# code for question 18\n",
    "A = returns.drop(['Date'], axis=1).to_numpy() #converted into a matrix to use svd, and numpy series\n",
    "\n",
    "#print(A)\n",
    "u, s, vh = la.svd(A, full_matrices=True) # u, sigma and v transposed \n",
    "\n",
    "sh = np.diag(s, k=0)\n",
    "print(A.shape)\n",
    "print(u.shape)\n",
    "print(sh.shape)\n",
    "print(vh.shape)\n",
    "\n",
    "#print(np.dot(a = (np.dot(a = u, b = sh)), b = vh))\n",
    "#sh only has the diagonal values but its missing zeros in its diagonal to acquire 252x488 dimensions"
   ]
  },
  {
   "cell_type": "markdown",
   "metadata": {},
   "source": [
    "### 19. `u_sigma1` is thought to track the market. To test that, we will perform a regression of `spy_returns` against this first left singular vector by letting `y=spy_returns` and `x=u_sigma1` and computing\n",
    "\n",
    "### $$ y = \\beta_0 + \\beta_1 x$$\n",
    "### using least squares regression."
   ]
  },
  {
   "cell_type": "code",
   "execution_count": 81,
   "metadata": {},
   "outputs": [
    {
     "name": "stdout",
     "output_type": "stream",
     "text": [
      "0.8984062933213037\n"
     ]
    }
   ],
   "source": [
    "# code for question 19\n",
    "x_for_u = u.T[0] #the vectors of u related to sigma one (transpose cause of the setup of columns in python)\n",
    "\n",
    "y = spy_returns[0:].to_numpy() #we set it up as a numpy array to do the linear regression\n",
    "\n",
    "coef3, residuals3, r_square3 = lin_reg(x,y)\n",
    "print(r_square3)\n",
    "\n",
    "func3 = 0.00034244 - 0.1189713*x_for_u\n",
    "y_hat3= coef3[0] + coef3[1]*x_for_u #a similar function than the one on top"
   ]
  },
  {
   "cell_type": "markdown",
   "metadata": {},
   "source": [
    "### 20. Plot the cumulative sum of the result from the regression on top of the cumulative sum of `spy_returns`. What do you notice?"
   ]
  },
  {
   "cell_type": "code",
   "execution_count": 94,
   "metadata": {},
   "outputs": [
    {
     "data": {
      "image/png": "[encoded data removed]",
      "text/plain": [
       "<Figure size 432x288 with 1 Axes>"
      ]
     },
     "metadata": {
      "needs_background": "light"
     },
     "output_type": "display_data"
    }
   ],
   "source": [
    "# code for question 20\n",
    "aaplpred = func3.cumsum()\n",
    "\n",
    "plt.plot(spy_returns.cumsum(), label=\"Spy cumulative returns\") #cumulative sum of apple returns\n",
    "\n",
    "plt.plot(aaplpred, label=\"Predicted cumulative returns using U-sigma1\") #setting up the prediction shortfalls from our regression\n",
    "plt.title(\"Spy cumulative returns on stocks vs predictive model using svd on 2019\")\n",
    "plt.xlabel(\"Days registered\")\n",
    "plt.ylabel(\"Cumulative returns\")\n",
    "plt.legend(loc=\"upper left\")\n",
    "\n",
    "plt.xticks(np.arange(spy_returns[0], len(spy_returns), 80))\n",
    "\n",
    "plt.figtext(.66, .2, \"r_square = 0.8984\")\n",
    "#give x and y axis def\n",
    "plt.show()"
   ]
  },
  {
   "cell_type": "markdown",
   "metadata": {},
   "source": [
    "**ANSWER FOR QUESTION 20**: double click on this cell to write your answer:\n",
    "Now we can see that the model using svd is pretty accurate when predicting the cumulative returns of spy, and at some points you cannot even tell the difference between which one is which. As a result of that, we see that the r_square is dramatically higher than our past models. And the reason behind this model fitting so well with the data is because the singular value decomposition used for the linear model is coming from the same dataset but only using sigma 1. This means that if we use the other sigmas, we are probably going to get the exact same line. And thats the importance of svd, in oversimplifying our issue so that we don't need to much data to predict the movements of certain cumulative returns."
   ]
  },
  {
   "cell_type": "markdown",
   "metadata": {},
   "source": [
    "# Congratulations! You have just implemented your first statistical Capital Asset Pricing Model (CAPM) to the S&P 500 market."
   ]
  }
 ],
 "metadata": {
  "colab": {
   "collapsed_sections": [],
   "name": "colab-tutorial.ipynb",
   "provenance": []
  },
  "kernelspec": {
   "display_name": "Python 3",
   "language": "python",
   "name": "python3"
  },
  "language_info": {
   "codemirror_mode": {
    "name": "ipython",
    "version": 3
   },
   "file_extension": ".py",
   "mimetype": "text/x-python",
   "name": "python",
   "nbconvert_exporter": "python",
   "pygments_lexer": "ipython3",
   "version": "3.8.8"
  }
 },
 "nbformat": 4,
 "nbformat_minor": 1
}
